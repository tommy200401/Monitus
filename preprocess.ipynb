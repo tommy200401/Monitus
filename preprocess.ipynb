{
 "cells": [
  {
   "cell_type": "code",
   "execution_count": 7,
   "source": [
    "import json\r\n",
    "import pandas as pd\r\n",
    "import requests\r\n",
    "import matplotlib.pyplot as plt\r\n",
    "import seaborn as sns\r\n",
    "from collections import Counter"
   ],
   "outputs": [],
   "metadata": {}
  },
  {
   "cell_type": "code",
   "execution_count": 2,
   "source": [
    "# --- US company list\r\n",
    "\r\n",
    "response = requests.get('https://financialmodelingprep.com/api/v3/stock/list?apikey=f33b3631d5140a4f1c87e7f2eafd8fdd')\r\n",
    "response.encoding = 'utf-8'\r\n",
    "raw_list=response.json()\r\n",
    "comp_list = [i['symbol'] for i in raw_list]\r\n",
    "exchange = set([i['exchange'] for i in raw_list])\r\n",
    "exchange_us = ['NASDAQ',\r\n",
    " 'NASDAQ Global Market',\r\n",
    " 'NYSE',\r\n",
    " 'NYSE American',\r\n",
    " 'Nasdaq',\r\n",
    " 'Nasdaq Capital Market',\r\n",
    " 'Nasdaq Global Market',\r\n",
    " 'Nasdaq Global Select',\r\n",
    " 'New York Stock Exchange',\r\n",
    " 'New York Stock Exchange Arca']\r\n",
    "us_list = [i['symbol'] for i in raw_list if i['exchange'] in exchange_us]"
   ],
   "outputs": [],
   "metadata": {}
  },
  {
   "cell_type": "code",
   "execution_count": 4,
   "source": [
    "def file(n):\r\n",
    "    with open(f'data/{n}.txt', encoding = 'utf-8') as f:\r\n",
    "        data = json.load(f)\r\n",
    "        f.close()\r\n",
    "    return data"
   ],
   "outputs": [],
   "metadata": {}
  },
  {
   "cell_type": "code",
   "execution_count": null,
   "source": [
    "asset = file('asset')\r\n",
    "income = file('income')\r\n",
    "cashflow = file('cashflow')\r\n",
    "growth = file('growth')\r\n",
    "ratio = file('ratio')\r\n",
    "profile = file('profile')"
   ],
   "outputs": [],
   "metadata": {}
  },
  {
   "cell_type": "code",
   "execution_count": 5,
   "source": [
    "profile = file('profile')"
   ],
   "outputs": [
    {
     "output_type": "error",
     "ename": "JSONDecodeError",
     "evalue": "Expecting value: line 1 column 1 (char 0)",
     "traceback": [
      "\u001b[1;31m---------------------------------------------------------------------------\u001b[0m",
      "\u001b[1;31mJSONDecodeError\u001b[0m                           Traceback (most recent call last)",
      "\u001b[1;32m<ipython-input-5-e2e4d4731569>\u001b[0m in \u001b[0;36m<module>\u001b[1;34m\u001b[0m\n\u001b[1;32m----> 1\u001b[1;33m \u001b[0mprofile\u001b[0m \u001b[1;33m=\u001b[0m \u001b[0mfile\u001b[0m\u001b[1;33m(\u001b[0m\u001b[1;34m'profile'\u001b[0m\u001b[1;33m)\u001b[0m\u001b[1;33m\u001b[0m\u001b[1;33m\u001b[0m\u001b[0m\n\u001b[0m",
      "\u001b[1;32m<ipython-input-4-25d00090ba67>\u001b[0m in \u001b[0;36mfile\u001b[1;34m(n)\u001b[0m\n\u001b[0;32m      1\u001b[0m \u001b[1;32mdef\u001b[0m \u001b[0mfile\u001b[0m\u001b[1;33m(\u001b[0m\u001b[0mn\u001b[0m\u001b[1;33m)\u001b[0m\u001b[1;33m:\u001b[0m\u001b[1;33m\u001b[0m\u001b[1;33m\u001b[0m\u001b[0m\n\u001b[0;32m      2\u001b[0m     \u001b[1;32mwith\u001b[0m \u001b[0mopen\u001b[0m\u001b[1;33m(\u001b[0m\u001b[1;34mf'data/{n}.txt'\u001b[0m\u001b[1;33m,\u001b[0m \u001b[0mencoding\u001b[0m \u001b[1;33m=\u001b[0m \u001b[1;34m'utf-8'\u001b[0m\u001b[1;33m)\u001b[0m \u001b[1;32mas\u001b[0m \u001b[0mf\u001b[0m\u001b[1;33m:\u001b[0m\u001b[1;33m\u001b[0m\u001b[1;33m\u001b[0m\u001b[0m\n\u001b[1;32m----> 3\u001b[1;33m         \u001b[0mdata\u001b[0m \u001b[1;33m=\u001b[0m \u001b[0mjson\u001b[0m\u001b[1;33m.\u001b[0m\u001b[0mload\u001b[0m\u001b[1;33m(\u001b[0m\u001b[0mf\u001b[0m\u001b[1;33m)\u001b[0m\u001b[1;33m\u001b[0m\u001b[1;33m\u001b[0m\u001b[0m\n\u001b[0m\u001b[0;32m      4\u001b[0m         \u001b[0mf\u001b[0m\u001b[1;33m.\u001b[0m\u001b[0mclose\u001b[0m\u001b[1;33m(\u001b[0m\u001b[1;33m)\u001b[0m\u001b[1;33m\u001b[0m\u001b[1;33m\u001b[0m\u001b[0m\n\u001b[0;32m      5\u001b[0m     \u001b[1;32mreturn\u001b[0m \u001b[0mdata\u001b[0m\u001b[1;33m\u001b[0m\u001b[1;33m\u001b[0m\u001b[0m\n",
      "\u001b[1;32m~\\anaconda3\\lib\\json\\__init__.py\u001b[0m in \u001b[0;36mload\u001b[1;34m(fp, cls, object_hook, parse_float, parse_int, parse_constant, object_pairs_hook, **kw)\u001b[0m\n\u001b[0;32m    291\u001b[0m     \u001b[0mkwarg\u001b[0m\u001b[1;33m;\u001b[0m \u001b[0motherwise\u001b[0m\u001b[0;31m \u001b[0m\u001b[0;31m`\u001b[0m\u001b[0;31m`\u001b[0m\u001b[0mJSONDecoder\u001b[0m\u001b[0;31m`\u001b[0m\u001b[0;31m`\u001b[0m \u001b[1;32mis\u001b[0m \u001b[0mused\u001b[0m\u001b[1;33m.\u001b[0m\u001b[1;33m\u001b[0m\u001b[1;33m\u001b[0m\u001b[0m\n\u001b[0;32m    292\u001b[0m     \"\"\"\n\u001b[1;32m--> 293\u001b[1;33m     return loads(fp.read(),\n\u001b[0m\u001b[0;32m    294\u001b[0m         \u001b[0mcls\u001b[0m\u001b[1;33m=\u001b[0m\u001b[0mcls\u001b[0m\u001b[1;33m,\u001b[0m \u001b[0mobject_hook\u001b[0m\u001b[1;33m=\u001b[0m\u001b[0mobject_hook\u001b[0m\u001b[1;33m,\u001b[0m\u001b[1;33m\u001b[0m\u001b[1;33m\u001b[0m\u001b[0m\n\u001b[0;32m    295\u001b[0m         \u001b[0mparse_float\u001b[0m\u001b[1;33m=\u001b[0m\u001b[0mparse_float\u001b[0m\u001b[1;33m,\u001b[0m \u001b[0mparse_int\u001b[0m\u001b[1;33m=\u001b[0m\u001b[0mparse_int\u001b[0m\u001b[1;33m,\u001b[0m\u001b[1;33m\u001b[0m\u001b[1;33m\u001b[0m\u001b[0m\n",
      "\u001b[1;32m~\\anaconda3\\lib\\json\\__init__.py\u001b[0m in \u001b[0;36mloads\u001b[1;34m(s, cls, object_hook, parse_float, parse_int, parse_constant, object_pairs_hook, **kw)\u001b[0m\n\u001b[0;32m    355\u001b[0m             \u001b[0mparse_int\u001b[0m \u001b[1;32mis\u001b[0m \u001b[1;32mNone\u001b[0m \u001b[1;32mand\u001b[0m \u001b[0mparse_float\u001b[0m \u001b[1;32mis\u001b[0m \u001b[1;32mNone\u001b[0m \u001b[1;32mand\u001b[0m\u001b[1;33m\u001b[0m\u001b[1;33m\u001b[0m\u001b[0m\n\u001b[0;32m    356\u001b[0m             parse_constant is None and object_pairs_hook is None and not kw):\n\u001b[1;32m--> 357\u001b[1;33m         \u001b[1;32mreturn\u001b[0m \u001b[0m_default_decoder\u001b[0m\u001b[1;33m.\u001b[0m\u001b[0mdecode\u001b[0m\u001b[1;33m(\u001b[0m\u001b[0ms\u001b[0m\u001b[1;33m)\u001b[0m\u001b[1;33m\u001b[0m\u001b[1;33m\u001b[0m\u001b[0m\n\u001b[0m\u001b[0;32m    358\u001b[0m     \u001b[1;32mif\u001b[0m \u001b[0mcls\u001b[0m \u001b[1;32mis\u001b[0m \u001b[1;32mNone\u001b[0m\u001b[1;33m:\u001b[0m\u001b[1;33m\u001b[0m\u001b[1;33m\u001b[0m\u001b[0m\n\u001b[0;32m    359\u001b[0m         \u001b[0mcls\u001b[0m \u001b[1;33m=\u001b[0m \u001b[0mJSONDecoder\u001b[0m\u001b[1;33m\u001b[0m\u001b[1;33m\u001b[0m\u001b[0m\n",
      "\u001b[1;32m~\\anaconda3\\lib\\json\\decoder.py\u001b[0m in \u001b[0;36mdecode\u001b[1;34m(self, s, _w)\u001b[0m\n\u001b[0;32m    335\u001b[0m \u001b[1;33m\u001b[0m\u001b[0m\n\u001b[0;32m    336\u001b[0m         \"\"\"\n\u001b[1;32m--> 337\u001b[1;33m         \u001b[0mobj\u001b[0m\u001b[1;33m,\u001b[0m \u001b[0mend\u001b[0m \u001b[1;33m=\u001b[0m \u001b[0mself\u001b[0m\u001b[1;33m.\u001b[0m\u001b[0mraw_decode\u001b[0m\u001b[1;33m(\u001b[0m\u001b[0ms\u001b[0m\u001b[1;33m,\u001b[0m \u001b[0midx\u001b[0m\u001b[1;33m=\u001b[0m\u001b[0m_w\u001b[0m\u001b[1;33m(\u001b[0m\u001b[0ms\u001b[0m\u001b[1;33m,\u001b[0m \u001b[1;36m0\u001b[0m\u001b[1;33m)\u001b[0m\u001b[1;33m.\u001b[0m\u001b[0mend\u001b[0m\u001b[1;33m(\u001b[0m\u001b[1;33m)\u001b[0m\u001b[1;33m)\u001b[0m\u001b[1;33m\u001b[0m\u001b[1;33m\u001b[0m\u001b[0m\n\u001b[0m\u001b[0;32m    338\u001b[0m         \u001b[0mend\u001b[0m \u001b[1;33m=\u001b[0m \u001b[0m_w\u001b[0m\u001b[1;33m(\u001b[0m\u001b[0ms\u001b[0m\u001b[1;33m,\u001b[0m \u001b[0mend\u001b[0m\u001b[1;33m)\u001b[0m\u001b[1;33m.\u001b[0m\u001b[0mend\u001b[0m\u001b[1;33m(\u001b[0m\u001b[1;33m)\u001b[0m\u001b[1;33m\u001b[0m\u001b[1;33m\u001b[0m\u001b[0m\n\u001b[0;32m    339\u001b[0m         \u001b[1;32mif\u001b[0m \u001b[0mend\u001b[0m \u001b[1;33m!=\u001b[0m \u001b[0mlen\u001b[0m\u001b[1;33m(\u001b[0m\u001b[0ms\u001b[0m\u001b[1;33m)\u001b[0m\u001b[1;33m:\u001b[0m\u001b[1;33m\u001b[0m\u001b[1;33m\u001b[0m\u001b[0m\n",
      "\u001b[1;32m~\\anaconda3\\lib\\json\\decoder.py\u001b[0m in \u001b[0;36mraw_decode\u001b[1;34m(self, s, idx)\u001b[0m\n\u001b[0;32m    353\u001b[0m             \u001b[0mobj\u001b[0m\u001b[1;33m,\u001b[0m \u001b[0mend\u001b[0m \u001b[1;33m=\u001b[0m \u001b[0mself\u001b[0m\u001b[1;33m.\u001b[0m\u001b[0mscan_once\u001b[0m\u001b[1;33m(\u001b[0m\u001b[0ms\u001b[0m\u001b[1;33m,\u001b[0m \u001b[0midx\u001b[0m\u001b[1;33m)\u001b[0m\u001b[1;33m\u001b[0m\u001b[1;33m\u001b[0m\u001b[0m\n\u001b[0;32m    354\u001b[0m         \u001b[1;32mexcept\u001b[0m \u001b[0mStopIteration\u001b[0m \u001b[1;32mas\u001b[0m \u001b[0merr\u001b[0m\u001b[1;33m:\u001b[0m\u001b[1;33m\u001b[0m\u001b[1;33m\u001b[0m\u001b[0m\n\u001b[1;32m--> 355\u001b[1;33m             \u001b[1;32mraise\u001b[0m \u001b[0mJSONDecodeError\u001b[0m\u001b[1;33m(\u001b[0m\u001b[1;34m\"Expecting value\"\u001b[0m\u001b[1;33m,\u001b[0m \u001b[0ms\u001b[0m\u001b[1;33m,\u001b[0m \u001b[0merr\u001b[0m\u001b[1;33m.\u001b[0m\u001b[0mvalue\u001b[0m\u001b[1;33m)\u001b[0m \u001b[1;32mfrom\u001b[0m \u001b[1;32mNone\u001b[0m\u001b[1;33m\u001b[0m\u001b[1;33m\u001b[0m\u001b[0m\n\u001b[0m\u001b[0;32m    356\u001b[0m         \u001b[1;32mreturn\u001b[0m \u001b[0mobj\u001b[0m\u001b[1;33m,\u001b[0m \u001b[0mend\u001b[0m\u001b[1;33m\u001b[0m\u001b[1;33m\u001b[0m\u001b[0m\n",
      "\u001b[1;31mJSONDecodeError\u001b[0m: Expecting value: line 1 column 1 (char 0)"
     ]
    }
   ],
   "metadata": {}
  },
  {
   "cell_type": "code",
   "execution_count": null,
   "source": [
    "def checker(n):\r\n",
    "    temp = []\r\n",
    "    temp2 = []\r\n",
    "    for i in n:\r\n",
    "        if i != None:\r\n",
    "            for j in i:\r\n",
    "                if j != None:\r\n",
    "                    temp.append(j['period'])\r\n",
    "                    temp2.append(j['date'][0:4])\r\n",
    "    return Counter(temp), Counter(temp2)\r\n",
    "\r\n",
    "checker(growth)\r\n"
   ],
   "outputs": [],
   "metadata": {}
  },
  {
   "cell_type": "code",
   "execution_count": 40,
   "source": [
    "# --- Add a time series tag for quarter\r\n",
    "\r\n",
    "def preprocessing(n: list):\r\n",
    "\r\n",
    "    temp = []\r\n",
    "    for i in n:\r\n",
    "        if i != None:\r\n",
    "            for j in i:\r\n",
    "                if len(j['date']) == 10 and j['period'] != None and j['period'].startswith('Q') and len(j['period']) == 2:\r\n",
    "                    year = int(j['date'][0:4])\r\n",
    "                    quarter = int(j['period'][-1])\r\n",
    "                    j['quarter'] = (year - 2001)*4 + quarter\r\n",
    "                    temp.append(j)\r\n",
    "                else:\r\n",
    "                    i.remove(j)\r\n",
    "    return temp\r\n",
    "\r\n",
    "asset2 = preprocessing(asset)\r\n",
    "income2 = preprocessing(income)\r\n",
    "cashflow2 = preprocessing(cashflow)\r\n",
    "growth2 = preprocessing(growth)\r\n",
    "ratio2 = preprocessing(ratio)\r\n",
    "\r\n",
    "    "
   ],
   "outputs": [],
   "metadata": {}
  },
  {
   "cell_type": "code",
   "execution_count": 32,
   "source": [
    "# ---- After finishing: convert to dataframe\r\n",
    "\r\n",
    "asset_df = pd.DataFrame(asset2)\r\n",
    "asset_df.to_csv('data/asset_df.csv')\r\n",
    "income_df = pd.DataFrame(income2)\r\n",
    "income_df.to_csv('data/income_df.csv')\r\n",
    "cashflow_df = pd.DataFrame(cashflow2)\r\n",
    "cashflow_df.to_csv('data/cashflow_df.csv')    \r\n",
    "growth_df = pd.DataFrame(growth2)\r\n",
    "growth_df.to_csv('data/growth_df.csv')\r\n",
    "ratio_df = pd.DataFrame(ratio2)\r\n",
    "ratio_df.to_csv('data/ratio_df.csv')"
   ],
   "outputs": [],
   "metadata": {}
  },
  {
   "cell_type": "code",
   "execution_count": 41,
   "source": [
    "def year(n):\r\n",
    "    n['year'] = n['date'].str.slice(0,4)\r\n",
    "\r\n",
    "for i in [asset_df, income_df, cashflow_df, growth_df, ratio_df]:\r\n",
    "    year(i)"
   ],
   "outputs": [],
   "metadata": {}
  },
  {
   "cell_type": "code",
   "execution_count": 42,
   "source": [
    "combined_df = pd.merge(asset_df, income_df, on=['symbol', 'quarter'], how='inner', left_index=True, right_index=True, suffixes=('', '_drop'))\r\n",
    "combined_df = pd.merge(combined_df, cashflow_df, on=['symbol', 'quarter'], how='inner', left_index=True, right_index=True, suffixes=('', '_drop'))\r\n",
    "combined_df = pd.merge(combined_df, growth_df, on=['symbol', 'quarter'], how='inner', left_index=True, right_index=True, suffixes=('', '_drop'))\r\n",
    "combined_df = pd.merge(combined_df, ratio_df, on=['symbol', 'quarter'], how='inner', left_index=True, right_index=True, suffixes=('', '_drop'))"
   ],
   "outputs": [],
   "metadata": {}
  },
  {
   "cell_type": "code",
   "execution_count": 35,
   "source": [
    "irrelevant = ['link','finalLink', 'goodwillAndIntangibleAssets', 'epsdiluted', 'weightedAverageShsOutDil','operatingCashFlow','capitalExpenditure']"
   ],
   "outputs": [],
   "metadata": {}
  },
  {
   "cell_type": "code",
   "execution_count": 43,
   "source": [
    "combined_df.drop(columns=irrelevant, inplace=True)\r\n",
    "combined_df.drop([i for i in combined_df.columns if 'drop' in i], axis=1, inplace=True)\r\n",
    "combined_df['date'] = pd.to_datetime(combined_df['date'])\r\n",
    "combined_df.head()\r\n"
   ],
   "outputs": [
    {
     "output_type": "execute_result",
     "data": {
      "text/plain": [
       "         date symbol reportedCurrency          fillingDate  \\\n",
       "0  2021-03-31  CMCSA              USD           2021-04-29   \n",
       "1  2020-12-31  CMCSA              USD           2021-02-04   \n",
       "2  2020-09-30  CMCSA              USD           2020-10-29   \n",
       "3  2020-06-30  CMCSA              USD  2020-07-30 00:00:00   \n",
       "4  2020-03-31  CMCSA              USD  2020-04-30 00:00:00   \n",
       "\n",
       "          acceptedDate period cashAndCashEquivalents shortTermInvestments  \\\n",
       "0  2021-04-29 15:22:23     Q1            14950000000                    0   \n",
       "1  2021-02-03 18:08:14     Q4            11740000000                    0   \n",
       "2  2020-10-29 15:03:25     Q1            13707000000                    0   \n",
       "3  2020-07-30 18:31:48     Q2            13935000000                    0   \n",
       "4  2020-04-30 15:24:15     Q1             8516000000                    0   \n",
       "\n",
       "  cashAndShortTermInvestments  netReceivables  ...  priceToSalesRatio  \\\n",
       "0                 14950000000    1.098600e+10  ...           9.131373   \n",
       "1                 11740000000    1.146600e+10  ...           8.662711   \n",
       "2                 13707000000    1.031000e+10  ...           8.292809   \n",
       "3                 13935000000    1.022700e+10  ...           7.572459   \n",
       "4                  8516000000    1.080000e+10  ...           5.965368   \n",
       "\n",
       "   priceEarningsRatio  priceToFreeCashFlowsRatio  \\\n",
       "0           18.655678                  47.049056   \n",
       "1           17.753431                 157.601046   \n",
       "2           26.217436                  92.499786   \n",
       "3           15.025172                  30.100714   \n",
       "4           18.483054                  47.739087   \n",
       "\n",
       "   priceToOperatingCashFlowsRatio  priceCashFlowRatio  \\\n",
       "0                       32.049931           32.049931   \n",
       "1                       47.605393           47.605393   \n",
       "2                       40.499620           40.499620   \n",
       "3                       20.777607           20.777607   \n",
       "4                       27.254887           27.254887   \n",
       "\n",
       "   priceEarningsToGrowthRatio  priceSalesRatio  dividendYield  \\\n",
       "0                  -17.455952         9.131373       0.004347   \n",
       "1                    0.263889         8.662711       0.004391   \n",
       "2                   -0.819628         8.292809       0.004997   \n",
       "3                    0.380639         7.572459       0.005853   \n",
       "4                   -0.577117         5.965368       0.006155   \n",
       "\n",
       "   enterpriseValueMultiple  priceFairValue  \n",
       "0                47.118783        2.683435  \n",
       "1                55.651505        2.616434  \n",
       "2                48.797840        2.417833  \n",
       "3                34.187316        2.117924  \n",
       "4                31.270757        1.917452  \n",
       "\n",
       "[5 rows x 184 columns]"
      ],
      "text/html": [
       "<div>\n",
       "<style scoped>\n",
       "    .dataframe tbody tr th:only-of-type {\n",
       "        vertical-align: middle;\n",
       "    }\n",
       "\n",
       "    .dataframe tbody tr th {\n",
       "        vertical-align: top;\n",
       "    }\n",
       "\n",
       "    .dataframe thead th {\n",
       "        text-align: right;\n",
       "    }\n",
       "</style>\n",
       "<table border=\"1\" class=\"dataframe\">\n",
       "  <thead>\n",
       "    <tr style=\"text-align: right;\">\n",
       "      <th></th>\n",
       "      <th>date</th>\n",
       "      <th>symbol</th>\n",
       "      <th>reportedCurrency</th>\n",
       "      <th>fillingDate</th>\n",
       "      <th>acceptedDate</th>\n",
       "      <th>period</th>\n",
       "      <th>cashAndCashEquivalents</th>\n",
       "      <th>shortTermInvestments</th>\n",
       "      <th>cashAndShortTermInvestments</th>\n",
       "      <th>netReceivables</th>\n",
       "      <th>...</th>\n",
       "      <th>priceToSalesRatio</th>\n",
       "      <th>priceEarningsRatio</th>\n",
       "      <th>priceToFreeCashFlowsRatio</th>\n",
       "      <th>priceToOperatingCashFlowsRatio</th>\n",
       "      <th>priceCashFlowRatio</th>\n",
       "      <th>priceEarningsToGrowthRatio</th>\n",
       "      <th>priceSalesRatio</th>\n",
       "      <th>dividendYield</th>\n",
       "      <th>enterpriseValueMultiple</th>\n",
       "      <th>priceFairValue</th>\n",
       "    </tr>\n",
       "  </thead>\n",
       "  <tbody>\n",
       "    <tr>\n",
       "      <th>0</th>\n",
       "      <td>2021-03-31</td>\n",
       "      <td>CMCSA</td>\n",
       "      <td>USD</td>\n",
       "      <td>2021-04-29</td>\n",
       "      <td>2021-04-29 15:22:23</td>\n",
       "      <td>Q1</td>\n",
       "      <td>14950000000</td>\n",
       "      <td>0</td>\n",
       "      <td>14950000000</td>\n",
       "      <td>1.098600e+10</td>\n",
       "      <td>...</td>\n",
       "      <td>9.131373</td>\n",
       "      <td>18.655678</td>\n",
       "      <td>47.049056</td>\n",
       "      <td>32.049931</td>\n",
       "      <td>32.049931</td>\n",
       "      <td>-17.455952</td>\n",
       "      <td>9.131373</td>\n",
       "      <td>0.004347</td>\n",
       "      <td>47.118783</td>\n",
       "      <td>2.683435</td>\n",
       "    </tr>\n",
       "    <tr>\n",
       "      <th>1</th>\n",
       "      <td>2020-12-31</td>\n",
       "      <td>CMCSA</td>\n",
       "      <td>USD</td>\n",
       "      <td>2021-02-04</td>\n",
       "      <td>2021-02-03 18:08:14</td>\n",
       "      <td>Q4</td>\n",
       "      <td>11740000000</td>\n",
       "      <td>0</td>\n",
       "      <td>11740000000</td>\n",
       "      <td>1.146600e+10</td>\n",
       "      <td>...</td>\n",
       "      <td>8.662711</td>\n",
       "      <td>17.753431</td>\n",
       "      <td>157.601046</td>\n",
       "      <td>47.605393</td>\n",
       "      <td>47.605393</td>\n",
       "      <td>0.263889</td>\n",
       "      <td>8.662711</td>\n",
       "      <td>0.004391</td>\n",
       "      <td>55.651505</td>\n",
       "      <td>2.616434</td>\n",
       "    </tr>\n",
       "    <tr>\n",
       "      <th>2</th>\n",
       "      <td>2020-09-30</td>\n",
       "      <td>CMCSA</td>\n",
       "      <td>USD</td>\n",
       "      <td>2020-10-29</td>\n",
       "      <td>2020-10-29 15:03:25</td>\n",
       "      <td>Q1</td>\n",
       "      <td>13707000000</td>\n",
       "      <td>0</td>\n",
       "      <td>13707000000</td>\n",
       "      <td>1.031000e+10</td>\n",
       "      <td>...</td>\n",
       "      <td>8.292809</td>\n",
       "      <td>26.217436</td>\n",
       "      <td>92.499786</td>\n",
       "      <td>40.499620</td>\n",
       "      <td>40.499620</td>\n",
       "      <td>-0.819628</td>\n",
       "      <td>8.292809</td>\n",
       "      <td>0.004997</td>\n",
       "      <td>48.797840</td>\n",
       "      <td>2.417833</td>\n",
       "    </tr>\n",
       "    <tr>\n",
       "      <th>3</th>\n",
       "      <td>2020-06-30</td>\n",
       "      <td>CMCSA</td>\n",
       "      <td>USD</td>\n",
       "      <td>2020-07-30 00:00:00</td>\n",
       "      <td>2020-07-30 18:31:48</td>\n",
       "      <td>Q2</td>\n",
       "      <td>13935000000</td>\n",
       "      <td>0</td>\n",
       "      <td>13935000000</td>\n",
       "      <td>1.022700e+10</td>\n",
       "      <td>...</td>\n",
       "      <td>7.572459</td>\n",
       "      <td>15.025172</td>\n",
       "      <td>30.100714</td>\n",
       "      <td>20.777607</td>\n",
       "      <td>20.777607</td>\n",
       "      <td>0.380639</td>\n",
       "      <td>7.572459</td>\n",
       "      <td>0.005853</td>\n",
       "      <td>34.187316</td>\n",
       "      <td>2.117924</td>\n",
       "    </tr>\n",
       "    <tr>\n",
       "      <th>4</th>\n",
       "      <td>2020-03-31</td>\n",
       "      <td>CMCSA</td>\n",
       "      <td>USD</td>\n",
       "      <td>2020-04-30 00:00:00</td>\n",
       "      <td>2020-04-30 15:24:15</td>\n",
       "      <td>Q1</td>\n",
       "      <td>8516000000</td>\n",
       "      <td>0</td>\n",
       "      <td>8516000000</td>\n",
       "      <td>1.080000e+10</td>\n",
       "      <td>...</td>\n",
       "      <td>5.965368</td>\n",
       "      <td>18.483054</td>\n",
       "      <td>47.739087</td>\n",
       "      <td>27.254887</td>\n",
       "      <td>27.254887</td>\n",
       "      <td>-0.577117</td>\n",
       "      <td>5.965368</td>\n",
       "      <td>0.006155</td>\n",
       "      <td>31.270757</td>\n",
       "      <td>1.917452</td>\n",
       "    </tr>\n",
       "  </tbody>\n",
       "</table>\n",
       "<p>5 rows × 184 columns</p>\n",
       "</div>"
      ]
     },
     "metadata": {},
     "execution_count": 43
    }
   ],
   "metadata": {}
  },
  {
   "cell_type": "code",
   "execution_count": 44,
   "source": [
    "# --- Validation of data\r\n",
    "\r\n",
    "test = combined_df[['date','symbol','year','period','quarter']]\r\n",
    "test.head()"
   ],
   "outputs": [
    {
     "output_type": "execute_result",
     "data": {
      "text/plain": [
       "         date symbol  year period  quarter\n",
       "0  2021-03-31  CMCSA  2021     Q1       81\n",
       "1  2020-12-31  CMCSA  2020     Q4       80\n",
       "2  2020-09-30  CMCSA  2020     Q1       77\n",
       "3  2020-06-30  CMCSA  2020     Q2       78\n",
       "4  2020-03-31  CMCSA  2020     Q1       77"
      ],
      "text/html": [
       "<div>\n",
       "<style scoped>\n",
       "    .dataframe tbody tr th:only-of-type {\n",
       "        vertical-align: middle;\n",
       "    }\n",
       "\n",
       "    .dataframe tbody tr th {\n",
       "        vertical-align: top;\n",
       "    }\n",
       "\n",
       "    .dataframe thead th {\n",
       "        text-align: right;\n",
       "    }\n",
       "</style>\n",
       "<table border=\"1\" class=\"dataframe\">\n",
       "  <thead>\n",
       "    <tr style=\"text-align: right;\">\n",
       "      <th></th>\n",
       "      <th>date</th>\n",
       "      <th>symbol</th>\n",
       "      <th>year</th>\n",
       "      <th>period</th>\n",
       "      <th>quarter</th>\n",
       "    </tr>\n",
       "  </thead>\n",
       "  <tbody>\n",
       "    <tr>\n",
       "      <th>0</th>\n",
       "      <td>2021-03-31</td>\n",
       "      <td>CMCSA</td>\n",
       "      <td>2021</td>\n",
       "      <td>Q1</td>\n",
       "      <td>81</td>\n",
       "    </tr>\n",
       "    <tr>\n",
       "      <th>1</th>\n",
       "      <td>2020-12-31</td>\n",
       "      <td>CMCSA</td>\n",
       "      <td>2020</td>\n",
       "      <td>Q4</td>\n",
       "      <td>80</td>\n",
       "    </tr>\n",
       "    <tr>\n",
       "      <th>2</th>\n",
       "      <td>2020-09-30</td>\n",
       "      <td>CMCSA</td>\n",
       "      <td>2020</td>\n",
       "      <td>Q1</td>\n",
       "      <td>77</td>\n",
       "    </tr>\n",
       "    <tr>\n",
       "      <th>3</th>\n",
       "      <td>2020-06-30</td>\n",
       "      <td>CMCSA</td>\n",
       "      <td>2020</td>\n",
       "      <td>Q2</td>\n",
       "      <td>78</td>\n",
       "    </tr>\n",
       "    <tr>\n",
       "      <th>4</th>\n",
       "      <td>2020-03-31</td>\n",
       "      <td>CMCSA</td>\n",
       "      <td>2020</td>\n",
       "      <td>Q1</td>\n",
       "      <td>77</td>\n",
       "    </tr>\n",
       "  </tbody>\n",
       "</table>\n",
       "</div>"
      ]
     },
     "metadata": {},
     "execution_count": 44
    }
   ],
   "metadata": {}
  },
  {
   "cell_type": "code",
   "execution_count": 53,
   "source": [
    "test['Quarter'] = test['date'].apply(lambda x: int(int(x.split('-')[1])/3))\r\n",
    "test['Validate'] = (test['period'].apply(lambda x: int(x[-1])) == test['Quarter'])\r\n",
    "test.groupby('Validate')['Validate'].count()"
   ],
   "outputs": [
    {
     "output_type": "stream",
     "name": "stderr",
     "text": [
      "<ipython-input-53-fcee33656cba>:1: SettingWithCopyWarning: \n",
      "A value is trying to be set on a copy of a slice from a DataFrame.\n",
      "Try using .loc[row_indexer,col_indexer] = value instead\n",
      "\n",
      "See the caveats in the documentation: https://pandas.pydata.org/pandas-docs/stable/user_guide/indexing.html#returning-a-view-versus-a-copy\n",
      "  test['Quarter'] = test['date'].apply(lambda x: int(int(x.split('-')[1])/3))\n",
      "<ipython-input-53-fcee33656cba>:2: SettingWithCopyWarning: \n",
      "A value is trying to be set on a copy of a slice from a DataFrame.\n",
      "Try using .loc[row_indexer,col_indexer] = value instead\n",
      "\n",
      "See the caveats in the documentation: https://pandas.pydata.org/pandas-docs/stable/user_guide/indexing.html#returning-a-view-versus-a-copy\n",
      "  test['Validate'] = (test['period'].apply(lambda x: int(x[-1])) == test['Quarter'])\n"
     ]
    },
    {
     "output_type": "execute_result",
     "data": {
      "text/plain": [
       "Validate\n",
       "False     76111\n",
       "True     220628\n",
       "Name: Validate, dtype: int64"
      ]
     },
     "metadata": {},
     "execution_count": 53
    }
   ],
   "metadata": {}
  },
  {
   "cell_type": "code",
   "execution_count": 51,
   "source": [],
   "outputs": [
    {
     "output_type": "execute_result",
     "data": {
      "text/plain": [
       "0        2021-03-31\n",
       "1        2020-12-31\n",
       "2        2020-09-30\n",
       "3        2020-06-30\n",
       "4        2020-03-31\n",
       "            ...    \n",
       "296734   2017-09-30\n",
       "296735   2017-06-30\n",
       "296736   2017-03-31\n",
       "296737   2016-12-31\n",
       "296738   2016-09-30\n",
       "Name: date, Length: 296739, dtype: datetime64[ns]"
      ]
     },
     "metadata": {},
     "execution_count": 51
    }
   ],
   "metadata": {}
  },
  {
   "cell_type": "code",
   "execution_count": 70,
   "source": [
    "# --- Remaking correct quarter number\r\n",
    "\r\n",
    "combined_df['period'] = (pd.DatetimeIndex(combined_df['date']).month/3).astype(int)\r\n",
    "combined_df['quarter'] = (pd.DatetimeIndex(combined_df['date']).year - 2001)*4 + combined_df['period']\r\n",
    "combined_df['quarter']\r\n"
   ],
   "outputs": [
    {
     "output_type": "execute_result",
     "data": {
      "text/plain": [
       "0         81\n",
       "1         80\n",
       "2         79\n",
       "3         78\n",
       "4         77\n",
       "          ..\n",
       "296734    67\n",
       "296735    66\n",
       "296736    65\n",
       "296737    64\n",
       "296738    63\n",
       "Name: quarter, Length: 296739, dtype: int64"
      ]
     },
     "metadata": {},
     "execution_count": 70
    }
   ],
   "metadata": {}
  },
  {
   "cell_type": "code",
   "execution_count": 71,
   "source": [
    "combined_df.to_csv('data/combined.csv')"
   ],
   "outputs": [],
   "metadata": {}
  },
  {
   "cell_type": "code",
   "execution_count": null,
   "source": [],
   "outputs": [],
   "metadata": {}
  }
 ],
 "metadata": {
  "interpreter": {
   "hash": "e5fd79f31331f79a0bba0b2102af77632196705e504ea6cba214cd275ef69b90"
  },
  "kernelspec": {
   "name": "python3",
   "display_name": "Python 3.8.5 64-bit ('base': conda)"
  },
  "language_info": {
   "codemirror_mode": {
    "name": "ipython",
    "version": 3
   },
   "file_extension": ".py",
   "mimetype": "text/x-python",
   "name": "python",
   "nbconvert_exporter": "python",
   "pygments_lexer": "ipython3",
   "version": "3.8.5"
  }
 },
 "nbformat": 4,
 "nbformat_minor": 4
}