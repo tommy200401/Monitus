{
 "cells": [
  {
   "cell_type": "code",
   "execution_count": 1,
   "source": [
    "import json\r\n",
    "import pandas as pd\r\n",
    "from urllib.request import urlopen"
   ],
   "outputs": [],
   "metadata": {}
  },
  {
   "cell_type": "code",
   "execution_count": 2,
   "source": [
    "#--- Getting company & exchange list\r\n",
    "\r\n",
    "response = urlopen('https://financialmodelingprep.com/api/v3/stock/list?apikey=f33b3631d5140a4f1c87e7f2eafd8fdd')\r\n",
    "data=response.read().decode('utf-8')\r\n",
    "raw_list=json.loads(data)\r\n"
   ],
   "outputs": [],
   "metadata": {}
  },
  {
   "cell_type": "code",
   "execution_count": 3,
   "source": [
    "comp_list = [i['symbol'] for i in raw_list]\r\n",
    "exchange = set([i['exchange'] for i in raw_list])"
   ],
   "outputs": [],
   "metadata": {}
  },
  {
   "cell_type": "code",
   "execution_count": 4,
   "source": [
    "temp = pd.DataFrame(raw_list)\r\n",
    "temp.groupby('exchange')['exchange'].count().to_csv('count.csv')"
   ],
   "outputs": [],
   "metadata": {}
  },
  {
   "cell_type": "code",
   "execution_count": 7,
   "source": [
    "exchange_code = pd.read_csv('Document/Global_Stock_Exchanges.csv')\r\n",
    "exchange_code[exchange_code['Country']=='USA']\r\n",
    "\r\n",
    "# BATS: too small\r\n",
    "# OTC: not stock"
   ],
   "outputs": [
    {
     "output_type": "execute_result",
     "data": {
      "text/plain": [
       "   Bloomberg Exchange Code Bloomberg Composite Code Country  \\\n",
       "92                      UA                       US     USA   \n",
       "93                      UF                       US     USA   \n",
       "94                      UN                       US     USA   \n",
       "95                      UP                       US     USA   \n",
       "96                      UQ                       US     USA   \n",
       "97                      UR                       US     USA   \n",
       "98                      UV                       US     USA   \n",
       "99                      UW                       US     USA   \n",
       "\n",
       "                Description ISO MIC Google Prefix EOD code # of Stocks  \n",
       "92            NYSE American    XASE  NYSEAMERICAN       US         260  \n",
       "93            CBOE BATS BZX    BATS          BATS       US           1  \n",
       "94  New York Stock Exchange    XNYS          NYSE       US       3,204  \n",
       "95                NYSE Arca    ARCX      NYSEARCA       US           3  \n",
       "96     NASDAQ Global Market    XNMS        NASDAQ       US         624  \n",
       "97    NASDAQ Capital Market    XNCM        NASDAQ       US       2,081  \n",
       "98              OTC markets    OOTC       OTCMKTS       US       2,145  \n",
       "99     NASDAQ Global Select    XNGS        NASDAQ       US       1,714  "
      ],
      "text/html": [
       "<div>\n",
       "<style scoped>\n",
       "    .dataframe tbody tr th:only-of-type {\n",
       "        vertical-align: middle;\n",
       "    }\n",
       "\n",
       "    .dataframe tbody tr th {\n",
       "        vertical-align: top;\n",
       "    }\n",
       "\n",
       "    .dataframe thead th {\n",
       "        text-align: right;\n",
       "    }\n",
       "</style>\n",
       "<table border=\"1\" class=\"dataframe\">\n",
       "  <thead>\n",
       "    <tr style=\"text-align: right;\">\n",
       "      <th></th>\n",
       "      <th>Bloomberg Exchange Code</th>\n",
       "      <th>Bloomberg Composite Code</th>\n",
       "      <th>Country</th>\n",
       "      <th>Description</th>\n",
       "      <th>ISO MIC</th>\n",
       "      <th>Google Prefix</th>\n",
       "      <th>EOD code</th>\n",
       "      <th># of Stocks</th>\n",
       "    </tr>\n",
       "  </thead>\n",
       "  <tbody>\n",
       "    <tr>\n",
       "      <th>92</th>\n",
       "      <td>UA</td>\n",
       "      <td>US</td>\n",
       "      <td>USA</td>\n",
       "      <td>NYSE American</td>\n",
       "      <td>XASE</td>\n",
       "      <td>NYSEAMERICAN</td>\n",
       "      <td>US</td>\n",
       "      <td>260</td>\n",
       "    </tr>\n",
       "    <tr>\n",
       "      <th>93</th>\n",
       "      <td>UF</td>\n",
       "      <td>US</td>\n",
       "      <td>USA</td>\n",
       "      <td>CBOE BATS BZX</td>\n",
       "      <td>BATS</td>\n",
       "      <td>BATS</td>\n",
       "      <td>US</td>\n",
       "      <td>1</td>\n",
       "    </tr>\n",
       "    <tr>\n",
       "      <th>94</th>\n",
       "      <td>UN</td>\n",
       "      <td>US</td>\n",
       "      <td>USA</td>\n",
       "      <td>New York Stock Exchange</td>\n",
       "      <td>XNYS</td>\n",
       "      <td>NYSE</td>\n",
       "      <td>US</td>\n",
       "      <td>3,204</td>\n",
       "    </tr>\n",
       "    <tr>\n",
       "      <th>95</th>\n",
       "      <td>UP</td>\n",
       "      <td>US</td>\n",
       "      <td>USA</td>\n",
       "      <td>NYSE Arca</td>\n",
       "      <td>ARCX</td>\n",
       "      <td>NYSEARCA</td>\n",
       "      <td>US</td>\n",
       "      <td>3</td>\n",
       "    </tr>\n",
       "    <tr>\n",
       "      <th>96</th>\n",
       "      <td>UQ</td>\n",
       "      <td>US</td>\n",
       "      <td>USA</td>\n",
       "      <td>NASDAQ Global Market</td>\n",
       "      <td>XNMS</td>\n",
       "      <td>NASDAQ</td>\n",
       "      <td>US</td>\n",
       "      <td>624</td>\n",
       "    </tr>\n",
       "    <tr>\n",
       "      <th>97</th>\n",
       "      <td>UR</td>\n",
       "      <td>US</td>\n",
       "      <td>USA</td>\n",
       "      <td>NASDAQ Capital Market</td>\n",
       "      <td>XNCM</td>\n",
       "      <td>NASDAQ</td>\n",
       "      <td>US</td>\n",
       "      <td>2,081</td>\n",
       "    </tr>\n",
       "    <tr>\n",
       "      <th>98</th>\n",
       "      <td>UV</td>\n",
       "      <td>US</td>\n",
       "      <td>USA</td>\n",
       "      <td>OTC markets</td>\n",
       "      <td>OOTC</td>\n",
       "      <td>OTCMKTS</td>\n",
       "      <td>US</td>\n",
       "      <td>2,145</td>\n",
       "    </tr>\n",
       "    <tr>\n",
       "      <th>99</th>\n",
       "      <td>UW</td>\n",
       "      <td>US</td>\n",
       "      <td>USA</td>\n",
       "      <td>NASDAQ Global Select</td>\n",
       "      <td>XNGS</td>\n",
       "      <td>NASDAQ</td>\n",
       "      <td>US</td>\n",
       "      <td>1,714</td>\n",
       "    </tr>\n",
       "  </tbody>\n",
       "</table>\n",
       "</div>"
      ]
     },
     "metadata": {},
     "execution_count": 7
    }
   ],
   "metadata": {}
  },
  {
   "cell_type": "code",
   "execution_count": 8,
   "source": [
    "exchange_us = ['NASDAQ',\r\n",
    " 'NASDAQ Global Market',\r\n",
    " 'NYSE',\r\n",
    " 'NYSE American',\r\n",
    " 'Nasdaq',\r\n",
    " 'Nasdaq Capital Market',\r\n",
    " 'Nasdaq Global Market',\r\n",
    " 'Nasdaq Global Select',\r\n",
    " 'New York Stock Exchange',\r\n",
    " 'New York Stock Exchange Arca']"
   ],
   "outputs": [],
   "metadata": {}
  },
  {
   "cell_type": "code",
   "execution_count": 9,
   "source": [
    "us_list = [i['symbol'] for i in raw_list if i['exchange'] in exchange_us]\r\n",
    "len(us_list)"
   ],
   "outputs": [
    {
     "output_type": "execute_result",
     "data": {
      "text/plain": [
       "10468"
      ]
     },
     "metadata": {},
     "execution_count": 9
    }
   ],
   "metadata": {}
  },
  {
   "cell_type": "code",
   "execution_count": 10,
   "source": [
    "def profile():\r\n",
    "    profile_list = []\r\n",
    "    n = 0\r\n",
    "    for i in us_list:\r\n",
    "        url_comp = urlopen(f'https://financialmodelingprep.com/api/v3/profile/{i}?apikey=f33b3631d5140a4f1c87e7f2eafd8fdd')\r\n",
    "        data=json.loads(url_comp.read().decode('utf-8'))\r\n",
    "        profile_list.append(data)\r\n",
    "        n += 1\r\n",
    "        print(f'Downloaded profile of {i}. Process: {round((n/10422)*100,2)}%.')\r\n",
    "    with open('profile.txt', 'w') as outfile:\r\n",
    "        json.dump(profile_list, outfile)\r\n",
    "    print('Complete!')"
   ],
   "outputs": [],
   "metadata": {}
  },
  {
   "cell_type": "code",
   "execution_count": 99,
   "source": [
    "def income():\r\n",
    "    income_info = []\r\n",
    "    n = 0\r\n",
    "    for i in us_list:\r\n",
    "        response = urlopen(f'https://financialmodelingprep.com/api/v3/income-statement/{i}?period=quarter&limit=400&apikey=f33b3631d5140a4f1c87e7f2eafd8fdd')\r\n",
    "        data = response.read().decode(\"utf-8\")\r\n",
    "        income_info.append(json.loads(data))\r\n",
    "        n += 1\r\n",
    "        print(f'Downloaded income of {i}. Process: {round((n/10422)*100,2)}%.')\r\n",
    "    with open('income.txt', 'w') as outfile:\r\n",
    "        json.dump(income_info, outfile)\r\n",
    "    print('Complete!')"
   ],
   "outputs": [],
   "metadata": {}
  },
  {
   "cell_type": "code",
   "execution_count": null,
   "source": [
    "def asset():\r\n",
    "    asset_info = []\r\n",
    "    n = 0\r\n",
    "    for i in us_list:\r\n",
    "        response = urlopen(f'https://financialmodelingprep.com/api/v3/balance-sheet-statement/{i}?period=quarter&limit=400&apikey=f33b3631d5140a4f1c87e7f2eafd8fdd')\r\n",
    "        data = response.read().decode(\"utf-8\")\r\n",
    "        asset_info.append(json.loads(data))\r\n",
    "        n += 1\r\n",
    "        print(f'Downloaded asset of {i}. Process: {round((n/10422)*100,2)}%.')\r\n",
    "    with open('asset.txt', 'w') as outfile:\r\n",
    "        json.dump(asset_info, outfile)\r\n",
    "    print('Complete!')"
   ],
   "outputs": [],
   "metadata": {}
  },
  {
   "cell_type": "code",
   "execution_count": 9,
   "source": [
    "def cashflow():\r\n",
    "    cashflow_info = []\r\n",
    "    n = 0\r\n",
    "    for i in us_list:\r\n",
    "        response = urlopen(f'https://financialmodelingprep.com/api/v3/cash-flow-statement/{i}?period=quarter&limit=400&apikey=f33b3631d5140a4f1c87e7f2eafd8fdd')\r\n",
    "        data = response.read().decode(\"utf-8\")\r\n",
    "        cashflow_info.append(json.loads(data))\r\n",
    "        n += 1\r\n",
    "        print(f'Downloaded cashflow of {i}. Process: {round((n/10422)*100,2)}%.')\r\n",
    "    with open('cashflow.txt', 'w') as outfile:\r\n",
    "        json.dump(cashflow_info, outfile)\r\n",
    "    print('Complete!')"
   ],
   "outputs": [],
   "metadata": {}
  },
  {
   "cell_type": "code",
   "execution_count": 8,
   "source": [
    "def growth():\r\n",
    "    growth_info = []\r\n",
    "    n = 0\r\n",
    "    for i in us_list:\r\n",
    "        url_comp = urlopen(f'https://financialmodelingprep.com/api/v3/financial-growth/{i}?period=quarter&limit=100&apikey=f33b3631d5140a4f1c87e7f2eafd8fdd')\r\n",
    "        data=json.loads(url_comp.read().decode('utf-8'))\r\n",
    "        growth_info.append(data)\r\n",
    "        n += 1\r\n",
    "        print(f'Downloaded growth of {i}. Process: {round((n/10422)*100,2)}%.')\r\n",
    "    with open('growth.txt', 'w') as outfile:\r\n",
    "        json.dump(growth_info, outfile)\r\n",
    "    print('Complete!')"
   ],
   "outputs": [],
   "metadata": {}
  },
  {
   "cell_type": "code",
   "execution_count": null,
   "source": [
    "def ratio():\r\n",
    "    ratio_info = []\r\n",
    "    n = 0\r\n",
    "    for i in us_list:\r\n",
    "        url_comp = urlopen(f'https://financialmodelingprep.com/api/v3/ratios/{i}?period=quarter&limit=140&apikey=f33b3631d5140a4f1c87e7f2eafd8fdd')\r\n",
    "        data=json.loads(url_comp.read().decode('utf-8'))\r\n",
    "        ratio_info.append(data)\r\n",
    "        n += 1\r\n",
    "        print(f'Downloaded ratio of {i}. Process: {round((n/10422)*100,2)}%.')\r\n",
    "    with open('ratios.txt', 'w') as outfile:\r\n",
    "        json.dump(ratio_info, outfile)\r\n",
    "    print('Complete!')"
   ],
   "outputs": [],
   "metadata": {}
  },
  {
   "cell_type": "code",
   "execution_count": null,
   "source": [
    "with open ('data/profile.txt') as f:\r\n",
    "    profile = json.load(f)\r\n",
    "    f.close()"
   ],
   "outputs": [],
   "metadata": {}
  },
  {
   "cell_type": "code",
   "execution_count": null,
   "source": [
    "temp = []\r\n",
    "for i in profile:\r\n",
    "    for j in i:\r\n",
    "        temp.append(j)"
   ],
   "outputs": [],
   "metadata": {}
  },
  {
   "cell_type": "code",
   "execution_count": 16,
   "source": [
    "with open ('data/profile.txt', 'wb') as f:\r\n",
    "    json.dumps(profile)\r\n",
    "    f.close()"
   ],
   "outputs": [],
   "metadata": {}
  },
  {
   "cell_type": "code",
   "execution_count": null,
   "source": [
    "pd.read_csv('data/profile')"
   ],
   "outputs": [],
   "metadata": {}
  }
 ],
 "metadata": {
  "interpreter": {
   "hash": "e5fd79f31331f79a0bba0b2102af77632196705e504ea6cba214cd275ef69b90"
  },
  "kernelspec": {
   "name": "python3",
   "display_name": "Python 3.8.5 64-bit ('base': conda)"
  },
  "language_info": {
   "codemirror_mode": {
    "name": "ipython",
    "version": 3
   },
   "file_extension": ".py",
   "mimetype": "text/x-python",
   "name": "python",
   "nbconvert_exporter": "python",
   "pygments_lexer": "ipython3",
   "version": "3.8.5"
  },
  "orig_nbformat": 4
 },
 "nbformat": 4,
 "nbformat_minor": 2
}